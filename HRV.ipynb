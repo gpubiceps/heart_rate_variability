{
 "cells": [
  {
   "cell_type": "markdown",
   "metadata": {},
   "source": [
    "# Анализ вариабельности сердечного ритма"
   ]
  },
  {
   "cell_type": "code",
   "execution_count": 1,
   "metadata": {},
   "outputs": [],
   "source": [
    "from typing import List, Callable, Sequence\n",
    "\n",
    "import numpy as np\n",
    "import math\n",
    "import matplotlib.pyplot as plt\n",
    "from matplotlib.patches import Ellipse\n",
    "import scipy.io\n",
    "from scipy.integrate import simps\n",
    "import pandas as pd\n",
    "from scipy import signal\n",
    "from scipy.integrate import trapz\n",
    "from scipy import stats\n",
    "from scipy.interpolate import CubicSpline\n",
    "import random\n",
    "import datetime\n",
    "\n",
    "%matplotlib inline"
   ]
  },
  {
   "cell_type": "markdown",
   "metadata": {},
   "source": [
    "#### Загрузка данных"
   ]
  },
  {
   "cell_type": "code",
   "execution_count": 2,
   "metadata": {},
   "outputs": [],
   "source": [
    "def load_ECG(pathname: str) -> np.ndarray:\n",
    "    '''Загрузка .mat-файла и формирование массива сигнала ЭКГ\n",
    "    в нужном масштабе.\n",
    "    \n",
    "    Parameters\n",
    "    ----------\n",
    "    pathname : str\n",
    "        Путь к файлу с именем.\n",
    "        \n",
    "    Returns\n",
    "    -------\n",
    "    ECG : np.ndarray\n",
    "        Отмасштабированный сигнал ЭКГ.\n",
    "    '''\n",
    "    ECG = scipy.io.loadmat(pathname)\n",
    "    gain = 600\n",
    "    try:\n",
    "        ECG = ECG['data'][:,0]\n",
    "    except KeyError:\n",
    "        ECG = ECG['val'][0,:]/gain\n",
    "    return ECG"
   ]
  },
  {
   "cell_type": "code",
   "execution_count": 2,
   "metadata": {},
   "outputs": [],
   "source": [
    "# Частота дискретизации\n",
    "Fd = 250"
   ]
  },
  {
   "cell_type": "markdown",
   "metadata": {},
   "source": [
    "### Выделение R пика"
   ]
  },
  {
   "cell_type": "markdown",
   "metadata": {},
   "source": [
    "#### Фильтрация"
   ]
  },
  {
   "cell_type": "code",
   "execution_count": 4,
   "metadata": {},
   "outputs": [],
   "source": [
    "def butter_filter_coeff(cutoff, fs, order, btype):\n",
    "    '''\n",
    "    Butterworth filter coefficients\n",
    "    \n",
    "    Parameters:\n",
    "    cutoff - filter cutoff frequency\n",
    "    fs - sampling frequency\n",
    "    order - filter order\n",
    "    btype - filter type (low or high)\n",
    "    \n",
    "    return: b, a - filter coefficients\n",
    "    '''\n",
    "    nyq = 0.5 * fs\n",
    "    normal_cutoff = cutoff / nyq\n",
    "    b, a = signal.butter(order, normal_cutoff, btype=btype, analog=False)\n",
    "    return b, a\n",
    "\n",
    "def butter_filtration(data, cutoff, fs, order, btype):\n",
    "    '''\n",
    "    Filtration data with a butterworth filter\n",
    "    \n",
    "    Parameters:\n",
    "    data - signal\n",
    "    cutoff - filter cutoff frequency\n",
    "    fs - sampling frequency\n",
    "    order - filter order\n",
    "    btype - filter type (low or high)\n",
    "    \n",
    "    return: y - filtered data\n",
    "    '''\n",
    "    b, a = butter_filter_coeff(cutoff, fs, order, btype)\n",
    "    y = signal.lfilter(b, a, data)\n",
    "    return y"
   ]
  },
  {
   "cell_type": "code",
   "execution_count": 5,
   "metadata": {},
   "outputs": [],
   "source": [
    "def reverse_filt(data, cutoff, fs, order, btype):\n",
    "    '''\n",
    "    Reverse filtration data with a butterworth filter\n",
    "    \n",
    "    Parameters:\n",
    "    data - signal\n",
    "    cutoff - filter cutoff frequency\n",
    "    fs - sampling frequency\n",
    "    order - filter order\n",
    "    btype - filter type (low or high)\n",
    "    \n",
    "    return: y - reverse filtered data\n",
    "    '''\n",
    "    reverse_data = data[::-1]\n",
    "    b, a = butter_filter_coeff(cutoff, fs, order, btype)\n",
    "    y = signal.lfilter(b, a, reverse_data)[::-1]\n",
    "    \n",
    "    return y"
   ]
  },
  {
   "cell_type": "code",
   "execution_count": 6,
   "metadata": {},
   "outputs": [],
   "source": [
    "def filter_response(cutoff, fs, order, btype):\n",
    "    '''\n",
    "    Butterworth filter frequency response\n",
    "    \n",
    "    Parameters:\n",
    "    b, a - filter coefficients\n",
    "    cutoff - filter cutoff frequency\n",
    "    fs - sampling frequency\n",
    "    order - filter order\n",
    "    \n",
    "    return: frequency response plot\n",
    "    '''\n",
    "    b, a = butter_filter_coeff(cutoff, fs, order, btype)\n",
    "    w, h = signal.freqz(b, a, worN=8000)\n",
    "    plt.figure(figsize=(11,3))\n",
    "    plt.plot(0.5*fs*w/np.pi, np.abs(h), 'b')\n",
    "    plt.plot(cutoff, 0.5*np.sqrt(2), 'ko')\n",
    "    plt.axvline(cutoff, color='k')\n",
    "    plt.xlim(0, 0.5*fs)\n",
    "    plt.title(str(btype) + 'pass filter frequency response')\n",
    "    plt.xlabel('Frequency $Hz$')\n",
    "    plt.grid()"
   ]
  },
  {
   "cell_type": "code",
   "execution_count": 7,
   "metadata": {},
   "outputs": [],
   "source": [
    "def diff(data):\n",
    "    '''\n",
    "    Differentiation\n",
    "    \n",
    "    Parameters:\n",
    "    data - signal\n",
    "    \n",
    "    return: diff - list of differentiated data\n",
    "    '''\n",
    "    diff = []\n",
    "    \n",
    "    for i in range(2, len(data)):\n",
    "            diff.append(data[i] - data[i-2])\n",
    "            \n",
    "    diff.append(0.0) #Добавим два нуля в конец \n",
    "    diff.append(0.0)\n",
    "    \n",
    "    return np.array(diff)"
   ]
  },
  {
   "cell_type": "markdown",
   "metadata": {},
   "source": [
    "#### Моделирование фильтров:\n",
    "#### Для выделения R-пиков два фильтра Баттерворта 4 порядка: ФНЧ и ФВЧ с частотами среза 15 Гц и 5 Гц соответственно\n",
    "#### Для фильтрации два фильтра Баттерворта 2 порядка: ФНЧ и ФВЧ с частотами среза 25 Гц и 0.5 Гц соответственно"
   ]
  },
  {
   "cell_type": "code",
   "execution_count": 8,
   "metadata": {
    "scrolled": true
   },
   "outputs": [
    {
     "data": {
      "image/png": "[encoded data removed]",
      "text/plain": [
       "<Figure size 792x216 with 1 Axes>"
      ]
     },
     "metadata": {
      "needs_background": "light"
     },
     "output_type": "display_data"
    }
   ],
   "source": [
    "filter_response(cutoff = 15, fs = Fd, order = 4, btype = 'low')"
   ]
  },
  {
   "cell_type": "code",
   "execution_count": 9,
   "metadata": {
    "scrolled": false
   },
   "outputs": [
    {
     "data": {
      "image/png": "[encoded data removed]",
      "text/plain": [
       "<Figure size 792x216 with 1 Axes>"
      ]
     },
     "metadata": {
      "needs_background": "light"
     },
     "output_type": "display_data"
    }
   ],
   "source": [
    "filter_response(cutoff = 5, fs = Fd, order = 4, btype = 'high')"
   ]
  },
  {
   "cell_type": "code",
   "execution_count": 10,
   "metadata": {
    "scrolled": true
   },
   "outputs": [
    {
     "data": {
      "image/png": "[encoded data removed]",
      "text/plain": [
       "<Figure size 792x216 with 1 Axes>"
      ]
     },
     "metadata": {
      "needs_background": "light"
     },
     "output_type": "display_data"
    }
   ],
   "source": [
    "filter_response(cutoff = 25, fs = Fd, order = 2, btype = 'low')"
   ]
  },
  {
   "cell_type": "code",
   "execution_count": 11,
   "metadata": {},
   "outputs": [
    {
     "data": {
      "image/png": "[encoded data removed]",
      "text/plain": [
       "<Figure size 792x216 with 1 Axes>"
      ]
     },
     "metadata": {
      "needs_background": "light"
     },
     "output_type": "display_data"
    }
   ],
   "source": [
    "filter_response(cutoff = 0.5, fs = Fd, order = 2, btype = 'high')"
   ]
  },
  {
   "cell_type": "markdown",
   "metadata": {},
   "source": [
    "#### Удаление тренда из сигнала"
   ]
  },
  {
   "cell_type": "code",
   "execution_count": 12,
   "metadata": {},
   "outputs": [],
   "source": [
    "def detrend(data):\n",
    "    data = data.astype('float32')\n",
    "    data -= np.mean(data)\n",
    "    return data"
   ]
  },
  {
   "cell_type": "markdown",
   "metadata": {},
   "source": [
    "#### Базовая фильтрация"
   ]
  },
  {
   "cell_type": "code",
   "execution_count": 13,
   "metadata": {},
   "outputs": [],
   "source": [
    "def basefilt(data, fs, cutoff = [25, 0.5], order = 2):\n",
    "    \n",
    "    filtred_data = detrend(data)\n",
    "    filtred_data = butter_filtration(filtred_data, cutoff = max(cutoff), fs = fs, order = order, btype = 'low')\n",
    "    filtred_data = reverse_filt(filtred_data, cutoff = max(cutoff), fs = fs, order = order, btype = 'low')\n",
    "    filtred_data = butter_filtration(filtred_data, cutoff = min(cutoff), fs = fs, order = order, btype = 'high')\n",
    "    filtred_data = reverse_filt(filtred_data, cutoff = min(cutoff), fs = fs, order = order, btype = 'high')\n",
    "    \n",
    "    return filtred_data"
   ]
  },
  {
   "cell_type": "markdown",
   "metadata": {},
   "source": [
    "#### Фильтрация для выделения RR в две стороны (для ликвидации сдвига по времени)"
   ]
  },
  {
   "cell_type": "code",
   "execution_count": 14,
   "metadata": {},
   "outputs": [],
   "source": [
    "def filtRR(data, fs, cutoff = [15, 5], order = 4):\n",
    "    \n",
    "    filtred_data = detrend(data)\n",
    "    filtred_data = butter_filtration(filtred_data, cutoff = max(cutoff), fs = fs, order = order, btype = 'low')\n",
    "    filtred_data = reverse_filt(filtred_data, cutoff = max(cutoff), fs = fs, order = order, btype = 'low')\n",
    "    filtred_data = butter_filtration(filtred_data, cutoff = min(cutoff), fs = fs, order = order, btype = 'high')\n",
    "    filtred_data = reverse_filt(filtred_data, cutoff = min(cutoff), fs = fs, order = order, btype = 'high')\n",
    "    \n",
    "    return filtred_data"
   ]
  },
  {
   "cell_type": "markdown",
   "metadata": {},
   "source": [
    "#### График"
   ]
  },
  {
   "cell_type": "code",
   "execution_count": 15,
   "metadata": {},
   "outputs": [],
   "source": [
    "def plot(data_x, data_y, title, xlabel, ylabel):\n",
    "    \n",
    "    plt.figure(figsize = (10,5))\n",
    "    plt.plot(data_x, data_y)\n",
    "    plt.xlim([data_x[0], data_x[-1]])\n",
    "    plt.xlabel(xlabel, fontsize=14)\n",
    "    plt.ylabel(ylabel, fontsize=14)\n",
    "    plt.title(title, fontsize=16)\n",
    "    plt.tick_params(axis='both', labelsize = 12)\n",
    "    plt.grid()"
   ]
  },
  {
   "cell_type": "markdown",
   "metadata": {},
   "source": [
    "#### Сигнал ЭКГ до и после фильтрации"
   ]
  },
  {
   "cell_type": "code",
   "execution_count": 16,
   "metadata": {
    "scrolled": false
   },
   "outputs": [],
   "source": [
    "def BeforeAfter(data1, data2, fs):\n",
    "    \n",
    "    t = [i/fs for i in range(fs*4)]\n",
    "    \n",
    "    plt.figure(figsize = (10,5))\n",
    "    plt.plot(t, data1[:fs*4])\n",
    "    plt.xlim([data1[0], 4])\n",
    "    plt.xlabel('$t, с$', fontsize=14)\n",
    "    plt.ylabel('$Напряжение, мВ$', fontsize=14)\n",
    "    plt.title('Исходный сигнал', fontsize=16)\n",
    "    plt.tick_params(axis='both', labelsize = 12)\n",
    "    plt.axvline(1, color = 'k', linewidth = 2, linestyle = ':')\n",
    "    plt.axvline(2, color = 'k', linewidth = 2, linestyle = ':')\n",
    "    plt.axvline(3, color = 'k', linewidth = 2, linestyle = ':')\n",
    "    plt.axvline(4, color = 'k', linewidth = 2, linestyle = ':')\n",
    "    plt.grid()\n",
    "    \n",
    "    plt.figure(figsize = (10,5))\n",
    "    plt.plot(t, data2[:fs*4])\n",
    "    plt.xlim([data2[0], 4])\n",
    "    plt.xlabel('$t, с$', fontsize=14)\n",
    "    plt.ylabel('$Напряжение, мВ$', fontsize=14)\n",
    "    plt.title('Сигнал после преобразования', fontsize=16)\n",
    "    plt.tick_params(axis='both', labelsize = 12)\n",
    "    plt.axvline(1, color = 'k', linewidth = 2, linestyle = ':')\n",
    "    plt.axvline(2, color = 'k', linewidth = 2, linestyle = ':')\n",
    "    plt.axvline(3, color = 'k', linewidth = 2, linestyle = ':')\n",
    "    plt.axvline(4, color = 'k', linewidth = 2, linestyle = ':')\n",
    "    plt.grid()"
   ]
  },
  {
   "cell_type": "markdown",
   "metadata": {},
   "source": [
    "### Выделения R-пика с помощью алгоритма Пана-Томпкинса с простым пороговым методом\n",
    "###### Этапы:\n",
    "1. Фильтрация\n",
    "2. Дифференцирование\n",
    "3. Квадратирование\n",
    "4. Скользящее среднее\n",
    "5. Пороговый метод"
   ]
  },
  {
   "cell_type": "markdown",
   "metadata": {},
   "source": [
    "#### Простое скользящее среднее"
   ]
  },
  {
   "cell_type": "code",
   "execution_count": 17,
   "metadata": {},
   "outputs": [],
   "source": [
    "def simple_mov_average(data, fs):\n",
    "    \n",
    "    order = int(fs*0.15) # Количество значений для усреднения выбирается таким образом, чтобы усреднить на окне 150 мс\n",
    "    SMA = []\n",
    "    for i in range(order - 1): # Нули в начало для компенсации\n",
    "        SMA.append(0.)\n",
    "    for i in range(len(data) - order + 1):\n",
    "        SMA.append(sum(data[i: i + order]) / order)\n",
    "        \n",
    "    return np.array(SMA)"
   ]
  },
  {
   "cell_type": "code",
   "execution_count": 18,
   "metadata": {},
   "outputs": [],
   "source": [
    "def PanTomAlg(data, fs):\n",
    "    \n",
    "    filtered_data = filtRR(data, fs) # Фильтрация\n",
    "    \n",
    "    diff_I = diff(filtered_data) * 150 # Дифференцирование и компенсация падения амплитуды после дифференцирования\n",
    "    \n",
    "    square = diff_I**2 # Квадратирование\n",
    "    \n",
    "    mov_avg = simple_mov_average(square, fs) # Скользящее среднее\n",
    "    \n",
    "    coord = [] # Массив координат R-пиков\n",
    "    refractory_period = 0.2 # Интервал, в течение которого возбудимая ткань не способна генерировать повторный потенциал\n",
    "    count = 0\n",
    "    lvl = 0.2 # Порог\n",
    "    \n",
    "    for i in range(len(mov_avg)):\n",
    "        if mov_avg[i] > lvl:\n",
    "            if count == 0:\n",
    "                count2 = 0\n",
    "                y_max = max(mov_avg[i:i + int(fs * refractory_period)])\n",
    "                for j in mov_avg[i:i + int(fs * refractory_period)]:\n",
    "                    if j == y_max:\n",
    "                        coord.append(i + count2)\n",
    "                        break\n",
    "                    count2 += 1\n",
    "            count += 1\n",
    "        if count == int(fs * refractory_period):\n",
    "            count = 0\n",
    "    \n",
    "    return coord"
   ]
  },
  {
   "cell_type": "markdown",
   "metadata": {},
   "source": [
    "#### Создание массива RR-интервалов"
   ]
  },
  {
   "cell_type": "code",
   "execution_count": 19,
   "metadata": {},
   "outputs": [],
   "source": [
    "def RR_int(R_peaks, fs):\n",
    "    rr_int = []\n",
    "    for i in range(len(R_peaks) - 1):\n",
    "        rr_int.append((R_peaks[i+1] - R_peaks[i]) / fs)\n",
    "    return rr_int"
   ]
  },
  {
   "cell_type": "markdown",
   "metadata": {},
   "source": [
    "#### Массив NN интервалов, где вместо выбросов медиана"
   ]
  },
  {
   "cell_type": "code",
   "execution_count": 20,
   "metadata": {},
   "outputs": [],
   "source": [
    "def create_NN(RR):\n",
    "    NN = []\n",
    "    for i in range(len(RR)):\n",
    "        if RR[i] < 0.4 or RR[i] > 1.4:\n",
    "            NN.append(np.median(RR))\n",
    "        else:\n",
    "            NN.append(RR[i])\n",
    "    return np.array(NN)"
   ]
  },
  {
   "cell_type": "markdown",
   "metadata": {},
   "source": [
    "### Ритмограмма"
   ]
  },
  {
   "cell_type": "code",
   "execution_count": 21,
   "metadata": {},
   "outputs": [],
   "source": [
    "def rythm(NN):\n",
    "    maxRR = max(NN) # Максимальная длина NN-интервала (с)\n",
    "    maxRRp = maxRR*1.2\n",
    "\n",
    "    plt.figure(figsize=(10,5))\n",
    "    plt.xlim(0, len(NN))\n",
    "    plt.ylim(0, maxRRp)\n",
    "    plt.xlabel('n', fontsize=14)\n",
    "    plt.tick_params(axis='both', labelsize=12)\n",
    "    plt.ylabel('RR, c', fontsize=14)\n",
    "    plt.title('Ритмограмма', fontsize=16)\n",
    "    for i in range(1, len(NN) + 1):\n",
    "        x = []\n",
    "        R = []\n",
    "        x.append(i)\n",
    "        x.append(i)\n",
    "        R.append(0)\n",
    "        R.append(NN[i-1])\n",
    "        plt.plot(x,R)\n",
    "    \n",
    "    return"
   ]
  },
  {
   "cell_type": "markdown",
   "metadata": {},
   "source": [
    "## Расчет показателей ВСР"
   ]
  },
  {
   "cell_type": "markdown",
   "metadata": {},
   "source": [
    "#### ЧСС (уд/мин)"
   ]
  },
  {
   "cell_type": "code",
   "execution_count": 22,
   "metadata": {},
   "outputs": [],
   "source": [
    "def HR(NN):\n",
    "    return int(round(len(NN)/sum(NN)*60))"
   ]
  },
  {
   "cell_type": "markdown",
   "metadata": {},
   "source": [
    "#### Среднее значение (мс)"
   ]
  },
  {
   "cell_type": "code",
   "execution_count": 23,
   "metadata": {},
   "outputs": [],
   "source": [
    "def mRR(NN):\n",
    "    return round(sum(NN)/len(NN)*1000,2)"
   ]
  },
  {
   "cell_type": "markdown",
   "metadata": {},
   "source": [
    "#### СКО (мс)"
   ]
  },
  {
   "cell_type": "code",
   "execution_count": 24,
   "metadata": {},
   "outputs": [],
   "source": [
    "def sdRR(NN):\n",
    "    return round(np.std(NN)*1000,2)"
   ]
  },
  {
   "cell_type": "markdown",
   "metadata": {},
   "source": [
    "#### Коэффициент вариации (%)"
   ]
  },
  {
   "cell_type": "code",
   "execution_count": 25,
   "metadata": {},
   "outputs": [],
   "source": [
    "def CV(NN):\n",
    "    return round(sdRR(NN)/mRR(NN)*100,2)"
   ]
  },
  {
   "cell_type": "markdown",
   "metadata": {},
   "source": [
    "#### Среднеквадратичная разностная характеристика (мс)"
   ]
  },
  {
   "cell_type": "code",
   "execution_count": 26,
   "metadata": {},
   "outputs": [],
   "source": [
    "def RMSSD(NN):\n",
    "    if type(NN) != type(np.array([])): # Преобразуем тип входного массива при необходимости\n",
    "        NN = np.array(NN)\n",
    "\n",
    "    return round(np.sqrt(np.mean(((NN[1:] - NN[:-1])*1000)**2)),2)"
   ]
  },
  {
   "cell_type": "markdown",
   "metadata": {},
   "source": [
    "#### Процент разностных интервалов (X_i+1 - X_i) > 50 мс (%)"
   ]
  },
  {
   "cell_type": "code",
   "execution_count": 27,
   "metadata": {},
   "outputs": [],
   "source": [
    "def PNN50(NN):\n",
    "    if type(NN) != type(np.array([])): # Преобразуем тип входного массива при необходимости\n",
    "        NN = np.array(NN)\n",
    "    \n",
    "    return round(sum(abs((NN[1:] - NN[:-1])*1000) > 50)/len(NN)*100,2)"
   ]
  },
  {
   "cell_type": "markdown",
   "metadata": {},
   "source": [
    "#### Коэффициент асимметрии"
   ]
  },
  {
   "cell_type": "code",
   "execution_count": 28,
   "metadata": {},
   "outputs": [],
   "source": [
    "def As(NN):\n",
    "    return round(stats.skew(NN),4)"
   ]
  },
  {
   "cell_type": "markdown",
   "metadata": {},
   "source": [
    "### Геометрический анализ"
   ]
  },
  {
   "cell_type": "markdown",
   "metadata": {},
   "source": [
    "#### Гистограмма и амплитуда моды (%) (Норма 30-50)"
   ]
  },
  {
   "cell_type": "code",
   "execution_count": 29,
   "metadata": {},
   "outputs": [],
   "source": [
    "def hist_AMo(NN, hist = False):\n",
    "    len_step = 0.05 # Шаг гистограммы (50 мс по умолчанию)\n",
    "    \n",
    "    if type(NN) != type(np.array([])): # Преобразуем тип входного массива при необходимости\n",
    "        NN = np.array(NN)\n",
    "        \n",
    "    maxRR = max(NN) # Максимальная длина NN-интервала (с)\n",
    "    minRR = min(NN) # Минимальная длина NN-интервала (с)\n",
    "    X = np.array([i for i in range(int(0.3*1000), int(1.7*1000), 50)]) / 1000 # Переменная по оси абсцисс (NN, с)\n",
    "\n",
    "    X_ms = X*1000 # Переменная по оси абсцисс (NN, мс)\n",
    "    NN_ms = NN*1000 # NN-интервалы в мс\n",
    "\n",
    "    histogr = []\n",
    "\n",
    "    for i in range(len(X)): # Расчет гистограммы\n",
    "        histogr.append(len(NN[np.where((NN_ms >= X_ms[i]) & (NN_ms < X_ms[i] + len_step*1000))]))\n",
    "\n",
    "    SH = sum(histogr) # Сумма гистограммы (число NN-интервалов)\n",
    "    histogr = np.array(histogr) / SH * 100 # Получение гистограммы в % \n",
    "    max_hist = max(histogr)\n",
    "    \n",
    "    #=================================================================\n",
    "    AMo = round(max_hist, 1) # Амплитуда моды (%)\n",
    "    #=================================================================\n",
    "    \n",
    "    if hist == True:\n",
    "        plt.figure(figsize=(10,5))\n",
    "        plt.bar(X, histogr, len_step, align = 'edge', edgecolor = 'k') # Построение гистограммы\n",
    "        plt.axvline(0.7, color = 'k', linewidth = 2)\n",
    "        plt.axvline(1.1, color = 'k', linewidth = 2)\n",
    "        plt.minorticks_on()\n",
    "        plt.text(0.4, 9/8*int(max_hist), '$Тахикардия$', fontsize=15)\n",
    "        plt.text(0.76, 9/8*int(max_hist), '$Нормокардия$', fontsize=15)\n",
    "        plt.text(1.15, 9/8*int(max_hist), '$Брадикардия$', fontsize=15)\n",
    "        plt.xlim(0.3, 1.7)\n",
    "        plt.ylim(0, 5/4*int(max_hist))\n",
    "        plt.xlabel('$RR, c$', fontsize=14)\n",
    "        plt.ylabel('$Частота,$ %', fontsize=14)\n",
    "        plt.title('Гистограмма', fontsize=16)\n",
    "        plt.tick_params(axis='both', labelsize=12)\n",
    "        plt.grid(which = 'major', \n",
    "                color = 'k', \n",
    "                linewidth = 0.5)\n",
    "        plt.grid(which = 'minor', \n",
    "                color = 'k', \n",
    "                linestyle = ':')\n",
    "        return\n",
    "    return AMo"
   ]
  },
  {
   "cell_type": "markdown",
   "metadata": {},
   "source": [
    "#### Вариационный размах (мс) (Норма 150-300)"
   ]
  },
  {
   "cell_type": "code",
   "execution_count": 30,
   "metadata": {},
   "outputs": [],
   "source": [
    "def MxDMn(NN):\n",
    "    return round((max(NN) - min(NN))*1000)"
   ]
  },
  {
   "cell_type": "markdown",
   "metadata": {},
   "source": [
    "#### Мода (мс) (Норма 700-900)"
   ]
  },
  {
   "cell_type": "code",
   "execution_count": 31,
   "metadata": {},
   "outputs": [],
   "source": [
    "def Mo(NN):\n",
    "    return round(stats.mode(NN).mode[0]*1000)"
   ]
  },
  {
   "cell_type": "markdown",
   "metadata": {},
   "source": [
    "#### Стресс-индекс (Норма 50-150)"
   ]
  },
  {
   "cell_type": "code",
   "execution_count": 32,
   "metadata": {},
   "outputs": [],
   "source": [
    "def SI(NN):\n",
    "    return round(hist_AMo(NN)/(2*Mo(NN)*MxDMn(NN)/1000000))"
   ]
  },
  {
   "cell_type": "markdown",
   "metadata": {},
   "source": [
    "#### Индекс вегетативного равновесия (Норма 100-300)"
   ]
  },
  {
   "cell_type": "code",
   "execution_count": 33,
   "metadata": {},
   "outputs": [],
   "source": [
    "def IVR(NN):\n",
    "    return round(hist_AMo(NN)*1000/MxDMn(NN),2)"
   ]
  },
  {
   "cell_type": "markdown",
   "metadata": {},
   "source": [
    "#### Вегетативный показатель ритма (Норма 7.1-9.3)"
   ]
  },
  {
   "cell_type": "code",
   "execution_count": 34,
   "metadata": {},
   "outputs": [],
   "source": [
    "def VPR(NN):\n",
    "    return round(1/(Mo(NN)*MxDMn(NN)/1000000),2)"
   ]
  },
  {
   "cell_type": "markdown",
   "metadata": {},
   "source": [
    "#### Показатель адекватности процессов регуляции (Норма 35-70)"
   ]
  },
  {
   "cell_type": "code",
   "execution_count": 35,
   "metadata": {},
   "outputs": [],
   "source": [
    "def PAPR(NN):\n",
    "    return round(hist_AMo(NN)*1000/Mo(NN),2)"
   ]
  },
  {
   "cell_type": "markdown",
   "metadata": {},
   "source": [
    "### Скатерограмма"
   ]
  },
  {
   "cell_type": "code",
   "execution_count": 36,
   "metadata": {},
   "outputs": [],
   "source": [
    "def scplot(NN):\n",
    "    plt.figure(figsize=(10,6))\n",
    "    plt.scatter(NN[:-2],NN[1:-1], edgecolors='k')\n",
    "    ax = plt.gca()\n",
    "    ellipse = Ellipse(xy=(0.9, 0.9), width = np.sqrt(2)*0.2, height = np.sqrt(2)*0.4, \n",
    "                            edgecolor = 'g', fc='None', lw = 2, angle = -45)\n",
    "    plt.plot([0.3, 1.7], [0.3, 1.7], c = 'k', lw = 1, alpha = 0.7)\n",
    "    ax.add_patch(ellipse)\n",
    "    plt.minorticks_on()\n",
    "    plt.xlim(0.3, 1.7)\n",
    "    plt.ylim(0.3, 1.7)\n",
    "    plt.xlabel('$RR_i$, c', fontsize=14)\n",
    "    plt.ylabel('$RR_{i+1}$, c', fontsize=14)\n",
    "    plt.title('Скатерограмма', fontsize=16)\n",
    "    plt.tick_params(axis='both', labelsize=12)\n",
    "    plt.grid(which = 'major', \n",
    "            color = 'k', \n",
    "            linewidth = 0.5)\n",
    "    plt.grid(which = 'minor', \n",
    "            color = 'k', \n",
    "            linestyle = ':')"
   ]
  },
  {
   "cell_type": "markdown",
   "metadata": {},
   "source": [
    "### Спектральный анализ"
   ]
  },
  {
   "cell_type": "markdown",
   "metadata": {},
   "source": [
    "#### Интерполяция ритмограммы кубическими сплайнами и дискретизация с частотой 4 Гц"
   ]
  },
  {
   "cell_type": "code",
   "execution_count": 37,
   "metadata": {},
   "outputs": [],
   "source": [
    "def interpolate(NN):\n",
    "    t = 0\n",
    "    x = [] \n",
    "    for i in range(len(NN)): # Расчет переменной времени\n",
    "        t += NN[i]\n",
    "        x.append(t)\n",
    "    \n",
    "    x = np.array(x)\n",
    "    y = NN\n",
    "    Fd = 4 # Частота дискретизации - стандартное значение 4 Гц\n",
    "    T = 1/Fd # Период дискретизации\n",
    "    cs = CubicSpline(x, y) # Рассчет сплайнов\n",
    "    xs = np.arange(1, x[-1], T)\n",
    "    \n",
    "    return cs(xs)"
   ]
  },
  {
   "cell_type": "markdown",
   "metadata": {},
   "source": [
    "#### Расчет СПМ"
   ]
  },
  {
   "cell_type": "code",
   "execution_count": 38,
   "metadata": {},
   "outputs": [],
   "source": [
    "def PSD(interpolated_NN, plot = False):\n",
    "    nfft = 2048 # Число точек для алгоритма БПФ\n",
    "    interpolated_NN -= np.mean(interpolated_NN) # Удаление постоянной сосставляющей\n",
    "    fs = 4.0\n",
    "    df = fs/nfft # Шаг по частоте\n",
    "    f, Pxx_den = signal.periodogram(interpolated_NN, fs, nfft = nfft) # Расчет СПМ в (с^2/Гц)\n",
    "    Pxx_den = Pxx_den*1000000 # СПМ (мс^2/Гц)\n",
    "    \n",
    "    if plot == True:\n",
    "        plt.figure(figsize=(10,5))\n",
    "        plt.plot(f, Pxx_den, c = 'k')\n",
    "        plt.xlim([0, 0.4])\n",
    "        plt.ylim([0, max(Pxx_den)*1.2])\n",
    "        plt.xlabel('$Частота, Гц$', fontsize=14)\n",
    "        plt.ylabel('$мс^2/Гц$', fontsize=14)\n",
    "        plt.title('Спектральная плотность мощности', fontsize=16)\n",
    "        plt.tick_params(axis='both', labelsize = 12)\n",
    "        plt.axvline(0.04, color = 'k', linewidth = 1)\n",
    "        plt.axvline(0.15, color = 'k', linewidth = 1)\n",
    "        plt.fill_between(f[f<0.04], y1=Pxx_den[f<0.04], y2=0, alpha=0.75, color='mediumseagreen', linewidth=1)\n",
    "        plt.fill_between(f[f>=0.04], y1=Pxx_den[f>=0.04], y2=0, alpha=0.5, color='orange', linewidth=1)\n",
    "        plt.fill_between(f[f>0.15], y1=Pxx_den[f>0.15], y2=0, alpha=0.55, color='red', linewidth=1)\n",
    "        plt.grid()\n",
    "\n",
    "        plt.text(0.0125, max(Pxx_den)*1.1, '$VLF$', fontsize=15)\n",
    "        plt.text(0.085, max(Pxx_den)*1.1, '$LF$', fontsize=15)\n",
    "        plt.text(0.27, max(Pxx_den)*1.1, '$HF$', fontsize=15)\n",
    "        plt.show()\n",
    "        return\n",
    "    \n",
    "    return f, Pxx_den, df"
   ]
  },
  {
   "cell_type": "markdown",
   "metadata": {},
   "source": [
    "#### Спектральные показатели"
   ]
  },
  {
   "cell_type": "code",
   "execution_count": 39,
   "metadata": {},
   "outputs": [],
   "source": [
    "def VLF(PowerDen,freq,dfreq): # Мощность волн очень низкой частоты в диапазоне от 0,04 и ниже (Норма 765 ± 410 мс^2)\n",
    "    return sum(PowerDen[np.where((freq >= 0) & (freq < 0.04))])*dfreq"
   ]
  },
  {
   "cell_type": "code",
   "execution_count": 40,
   "metadata": {},
   "outputs": [],
   "source": [
    "def LF(PowerDen,freq,dfreq): # Мощность волн низкой частоты в диапазоне от 0,15 до 0,04 Гц (Норма 1170 ± 416 мс^2)\n",
    "    return sum(PowerDen[np.where((freq >= 0.04) & (freq < 0.15))])*dfreq"
   ]
  },
  {
   "cell_type": "code",
   "execution_count": 41,
   "metadata": {},
   "outputs": [],
   "source": [
    "def HF(PowerDen,freq,dfreq): # Мощность волн высокой частоты в диапазоне от 0,4 до 0,15 Гц (Норма 975 ± 203 мс^2)\n",
    "    return sum(PowerDen[np.where((freq >= 0.15) & (freq <= 0.4))])*dfreq"
   ]
  },
  {
   "cell_type": "code",
   "execution_count": 42,
   "metadata": {},
   "outputs": [],
   "source": [
    "def TP(PowerDen,freq,dfreq): # Общая мощность спектра (Норма 3446 ± 1018 мс^2)\n",
    "    return sum(PowerDen[np.where((freq >= 0) & (freq <= 0.4))])*dfreq"
   ]
  },
  {
   "cell_type": "code",
   "execution_count": 43,
   "metadata": {},
   "outputs": [],
   "source": [
    "def LFHF(PowerDen,freq,dfreq): # Коэффициент вагосимпатического баланса (Норма 0.7 ± 1.5 мс^2)\n",
    "    return LF(PowerDen,freq,dfreq)/HF(PowerDen,freq,dfreq)"
   ]
  },
  {
   "cell_type": "code",
   "execution_count": 44,
   "metadata": {},
   "outputs": [],
   "source": [
    "def HFp(PowerDen,freq,dfreq): # Относительное значение мощности волн высокой частоты (Норма 35.79 ± 14.74 %)\n",
    "    return HF(PowerDen,freq,dfreq)/TP(PowerDen,freq,dfreq)*100"
   ]
  },
  {
   "cell_type": "code",
   "execution_count": 45,
   "metadata": {},
   "outputs": [],
   "source": [
    "def LFp(PowerDen,freq,dfreq): # Относительное значение мощности волн низкой частоты (Норма 33.68 ± 9.04 %)\n",
    "    return LF(PowerDen,freq,dfreq)/TP(PowerDen,freq,dfreq)*100"
   ]
  },
  {
   "cell_type": "code",
   "execution_count": 46,
   "metadata": {},
   "outputs": [],
   "source": [
    "def VLFp(PowerDen,freq,dfreq): # Относительное значение мощности волн очень низкой частоты (Норма 28.65 ± 11.24 %)\n",
    "    return VLF(PowerDen,freq,dfreq)/TP(PowerDen,freq,dfreq)*100"
   ]
  },
  {
   "cell_type": "code",
   "execution_count": 47,
   "metadata": {},
   "outputs": [],
   "source": [
    "# Относительное значение мощности волн высокой частоты, выраженное в нормализованных единицах (Норма 49.4 ± 9.4 %)\n",
    "def relativeHF(PowerDen,freq,dfreq):\n",
    "    return HF(PowerDen,freq,dfreq)/(TP(PowerDen,freq,dfreq) - VLF(PowerDen,freq,dfreq))*100"
   ]
  },
  {
   "cell_type": "code",
   "execution_count": 48,
   "metadata": {},
   "outputs": [],
   "source": [
    "# Относительное значение мощности волн низкой частоты, выраженное в нормализованных единицах (Норма 50.6 ± 9.4 %)\n",
    "def relativeLF(PowerDen,freq,dfreq):\n",
    "    return LF(PowerDen,freq,dfreq)/(TP(PowerDen,freq,dfreq) - VLF(PowerDen,freq,dfreq))*100"
   ]
  },
  {
   "cell_type": "code",
   "execution_count": 49,
   "metadata": {},
   "outputs": [],
   "source": [
    "def IC(PowerDen,freq,dfreq): # Индекс централизации (Норма <= 3)\n",
    "    return (VLF(PowerDen,freq,dfreq) + LF(PowerDen,freq,dfreq))/HF(PowerDen,freq,dfreq)"
   ]
  },
  {
   "cell_type": "markdown",
   "metadata": {},
   "source": [
    "### Расчет показателя активности регуляторных систем (ПАРС)"
   ]
  },
  {
   "cell_type": "markdown",
   "metadata": {},
   "source": [
    "#### А. Суммарный эффект регуляции"
   ]
  },
  {
   "cell_type": "code",
   "execution_count": 50,
   "metadata": {},
   "outputs": [],
   "source": [
    "def SER(NN):\n",
    "    if mRR(NN)/1000 < 0.66:\n",
    "        return 2, 'Выраженная тахикардия'\n",
    "    elif mRR(NN)/1000 >= 0.66 and mRR(NN)/1000 <= 0.8:\n",
    "        return 1, 'Умеренная тахикардия'\n",
    "    elif mRR(NN)/1000 > 0.8 and mRR(NN)/1000 <= 1.0:\n",
    "        return 0, 'Нормокардия'\n",
    "    elif mRR(NN)/1000 > 1.0 and mRR(NN)/1000 <= 1.2:\n",
    "        return -1, 'Умеренная брадикардия'\n",
    "    else:\n",
    "        return -2, 'Выраженная брадикардия'"
   ]
  },
  {
   "cell_type": "markdown",
   "metadata": {},
   "source": [
    "#### Б. Функция автоматизма"
   ]
  },
  {
   "cell_type": "code",
   "execution_count": 51,
   "metadata": {},
   "outputs": [],
   "source": [
    "def AF(NN):\n",
    "    if sdRR(NN)/1000 <= 0.02 and MxDMn(NN)/1000 <= 0.1*mRR(NN)/1000 and CV(NN) <= 2.0:\n",
    "        return 2, 'Стабильный ритм'\n",
    "    elif sdRR(NN)/1000 >= 0.1 and MxDMn(NN)/1000 > 0.3*mRR(NN)/1000 and CV(NN) > 8.0:\n",
    "        return 1, 'Выраженная синусовая аритмия'\n",
    "    elif MxDMn(NN)/1000 >= 0.11*mRR(NN)/1000 and MxDMn(NN)/1000 <= 0.3*mRR(NN)/1000:\n",
    "        return 0, 'Умеренная синусовая аритмия'\n",
    "    elif MxDMn(NN)/1000 > 0.45*mRR(NN)/1000:\n",
    "        return -1, 'Умеренное нарушение автоматизма'\n",
    "    elif sdRR(NN)/1000 > 0.11 and MxDMn(NN)/1000 > 0.6*mRR(NN)/1000 and CV(NN) > 8.0:\n",
    "        return -2, 'Выраженное нарушение автоматизма'\n",
    "    else:\n",
    "        return 0, 'Не удалось определить'"
   ]
  },
  {
   "cell_type": "markdown",
   "metadata": {},
   "source": [
    "#### В. Вегетативный гомеостаз"
   ]
  },
  {
   "cell_type": "code",
   "execution_count": 52,
   "metadata": {},
   "outputs": [],
   "source": [
    "def VG(NN):\n",
    "    if MxDMn(NN)/1000 < 0.06 and hist_AMo(NN) > 80 and SI(NN) > 500:\n",
    "        return 2, 'Выраженное преобладание симпатической НС'\n",
    "    elif MxDMn(NN)/1000 < 0.15 and hist_AMo(NN) > 50 and SI(NN) > 200:\n",
    "        return 1, 'Умеренное преобладание симпатической НС'\n",
    "    elif MxDMn(NN)/1000>=0.15 and MxDMn(NN)/1000<=0.3 and hist_AMo(NN)<=50 and hist_AMo(NN)>=30 and SI(NN)>=50 and SI(NN)<=200:\n",
    "        return 0, 'Вегетативный гомеостаз сохранен'\n",
    "    elif MxDMn(NN)/1000 > 0.3 and hist_AMo(NN) < 30 and SI(NN) < 50:\n",
    "        return -1, 'Умеренное преобладание парасимпатической НС'\n",
    "    elif MxDMn(NN)/1000 > 0.5 and hist_AMo(NN) < 15 and SI(NN) < 25:\n",
    "        return -2, 'Выраженное преобладание парасимпатической НС'\n",
    "    else:\n",
    "        return 0, 'Вегетативный гомеостаз сохранен'"
   ]
  },
  {
   "cell_type": "markdown",
   "metadata": {},
   "source": [
    "#### Г. Устойчивость регуляции"
   ]
  },
  {
   "cell_type": "code",
   "execution_count": 53,
   "metadata": {},
   "outputs": [],
   "source": [
    "def UR(NN):\n",
    "    if CV(NN) < 3.00:\n",
    "        return 2, 'Дисрегуляция'\n",
    "    elif CV(NN) >= 3.0 and CV(NN) <= 12.0:\n",
    "        return 0, 'Устойчивая регуляция'\n",
    "    else:\n",
    "        return -2, 'Дисрегуляция'"
   ]
  },
  {
   "cell_type": "markdown",
   "metadata": {},
   "source": [
    "#### Д. Активность подкорковых нервных центров"
   ]
  },
  {
   "cell_type": "code",
   "execution_count": 54,
   "metadata": {},
   "outputs": [],
   "source": [
    "def APNC(NN, PowerDen, freq, dfreq):\n",
    "    if VLFp(PowerDen,freq,dfreq) > 70 and LFp(PowerDen,freq,dfreq) > 25 and HFp(PowerDen,freq,dfreq) < 5:\n",
    "        return 2, 'Выраженное усиление'\n",
    "    elif VLFp(PowerDen,freq,dfreq) > 60 and HFp(PowerDen,freq,dfreq) < 20:\n",
    "        return 1, 'Умеренное усиление'\n",
    "    elif VLFp(PowerDen,freq,dfreq) >= 40 and VLFp(PowerDen,freq,dfreq) <= 60 and HFp(PowerDen,freq,dfreq) >= 20 and HFp(PowerDen,freq,dfreq) <= 30:\n",
    "        return 0, 'Нормальная активность подкорковых нервных центров'\n",
    "    elif VLFp(PowerDen,freq,dfreq) < 40 and HFp(PowerDen,freq,dfreq) > 30:\n",
    "        return -1, 'Умеренное ослабление'\n",
    "    elif VLFp(PowerDen,freq,dfreq) < 20 and HFp(PowerDen,freq,dfreq) > 40:\n",
    "        return -2, 'Выраженное ослабление'\n",
    "    else:\n",
    "        return 0, 'Нормальная активность подкорковых нервных центров'"
   ]
  },
  {
   "cell_type": "markdown",
   "metadata": {},
   "source": [
    "#### ПАРС = |А|+|Б|+|В|+|Г|+|Д|"
   ]
  },
  {
   "cell_type": "code",
   "execution_count": 55,
   "metadata": {},
   "outputs": [],
   "source": [
    "def PARS(NN, PowerDen, freq, dfreq):\n",
    "    return abs(SER(NN)[0]) + abs(AF(NN)[0]) + abs(VG(NN)[0]) + abs(UR(NN)[0]) + abs(APNC(NN, PowerDen, freq, dfreq)[0])"
   ]
  },
  {
   "cell_type": "code",
   "execution_count": 56,
   "metadata": {},
   "outputs": [],
   "source": [
    "def start():\n",
    "    \n",
    "    FIO = input('ФИО: ')\n",
    "    gender = input('\\nПол: ')\n",
    "    age = input('\\nВозраст: ')\n",
    "    date = datetime.datetime.now()\n",
    "    filepath = input('\\nПуть к файлу ЭКГ: ')\n",
    "    Fd = int(input('\\nЧастота дискретизации: '))\n",
    "    print('\\nДата и время обследования: ' + str(date))\n",
    "    \n",
    "    ecg = load_ECG(filepath) # Загрузка сигнала ЭКГ\n",
    "    \n",
    "    ecg_basefilt = basefilt(ecg, Fd) # Предварительная фильтрация\n",
    "    \n",
    "    t = [i/Fd for i in range(Fd*2, Fd*5)] # Аргумент времени для графиков\n",
    "    \n",
    "    plot(t, ecg_basefilt[Fd*2:Fd*5], title = 'Электрокадиограмма', xlabel = '$t, c$', ylabel = 'Напряжение, мВ') # График сигнала\n",
    "    \n",
    "    ecg_filtRR = filtRR(ecg, Fd) # Фильтрация для выделения RR\n",
    "    \n",
    "    R_coord = PanTomAlg(ecg, Fd) # Алгоритм Пана-Томпкинсона\n",
    "    \n",
    "    rr = RR_int(R_coord, Fd) # Расчет RR-интервалов\n",
    "    \n",
    "    nn = create_NN(rr) # Выборка нормальных сокращений\n",
    "    \n",
    "    rythm(nn) # Ритмограмма\n",
    "    \n",
    "    hist_AMo(nn, hist = True) # Гистограмма\n",
    "    \n",
    "    scplot(nn) # Скатерограмма\n",
    "    \n",
    "    inter_NN = interpolate(nn) # Интерполяция ритмограммы кубическими сплайнами и дискретизация с частотой 4 Гц\n",
    "    \n",
    "    f, Pxx_den, df = PSD(inter_NN) # Расчет спектральной плотности мощности\n",
    "    \n",
    "    PSD(inter_NN, plot = True) # График спектральной плотности мощности\n",
    "    print('\\033[1m' + 'ОЦЕНКА СОСТОЯНИЯ РЕГУЛЯТОРНЫХ СИСТЕМ\\n' + '\\033[0m')\n",
    "    print('Суммарный эффект регуляции:  \\033[1m{}\\033[0m - ({})'.format(SER(nn)[1], SER(nn)[0]))\n",
    "    print('Функция автоматизма:  \\033[1m{}\\033[0m - ({})'.format(AF(nn)[1], AF(nn)[0]))\n",
    "    print('Вегетативный гомеостаз:  \\033[1m{}\\033[0m - ({})'.format(VG(nn)[1], VG(nn)[0]))\n",
    "    print('Устойчивость регуляции:  \\033[1m{}\\033[0m - ({})'.format(UR(nn)[1], UR(nn)[0]))\n",
    "    print('Активность подкорковых нервных центров:  \\033[1m{}\\033[0m - ({})'.format(APNC(nn, Pxx_den, f, df)[1], APNC(nn, Pxx_den, f, df)[0]))\n",
    "    \n",
    "    print('\\n\\033[1m\\nОЦЕНКА ФУНКЦИОНАЛЬНОГО СОСТОЯНИЯ\\n\\033[0m')\n",
    "    if PARS(nn, Pxx_den, f, df) <= 2:\n",
    "        print('\\033[91m\\033[1mНорма\\033[0m')\n",
    "    elif PARS(nn, Pxx_den, f, df) == 3 or PARS(nn, Pxx_den, f, df) == 4:\n",
    "        print('\\033[91m\\033[1mУмеренное функциональное напряжение\\033[0m')\n",
    "    elif PARS(nn, Pxx_den, f, df) == 5 or PARS(nn, Pxx_den, f, df) == 6:\n",
    "        print('\\033[91m\\033[1mВыраженное функциональное напряжение\\033[0m')\n",
    "    elif PARS(nn, Pxx_den, f, df) == 7:\n",
    "        print('\\033[91m\\033[1mРезко выраженное функциональное напряжение (перенапряжение регуляторных систем)\\033[0m')\n",
    "    elif PARS(nn, Pxx_den, f, df) == 8:\n",
    "        print('\\033[91m\\033[1mАстенизация (истощение) регуляторных систем\\033[0m')\n",
    "    else:\n",
    "        print('\\033[91m\\033[1mСрыв адаптации\\033[0m')\n",
    "    \n",
    "    print('Ваш показатель активности регуляторных систем: {}'.format(PARS(nn, Pxx_den, f, df)))\n",
    "    \n",
    "    d = {'Наименование': ['Частота пульса (HR) уд/мин',\n",
    "                      'Среднеквадратическое отклонение (SDNN) мс',\n",
    "                      'Коэффициент вариации (CV) %',\n",
    "                     'Среднеквадр. разностная характеристика (RMSSD) мс',\n",
    "                     'Процент разностных интервалов > 50 мс (PNN50) %',\n",
    "                     'Мода (Mo) мс',\n",
    "                     'Амплитуда моды (AMo) %',\n",
    "                     'Вариационный размах (MxDMn) мс',\n",
    "                     'Стресс-индекс (SI)',\n",
    "                     'Индекс вегетативного равновесия (IVR)',\n",
    "                     'Вегетативный показатель ритма (VPR)',\n",
    "                     'Индекс адекватности процессов регуляции (PAPR)',\n",
    "                     'Мощность волн очень низкой частоты (VLF) мс^2',\n",
    "                     'Мощность волн низкой частоты (LF) мс^2',\n",
    "                     'Мощность волн высокой частоты (HF) мс^2',\n",
    "                     'Общая мощность спектра (TP) мс^2',\n",
    "                     'Коэф. вагосимпатического баланса (LFHF) мс^2',\n",
    "                     'Относ. знач. мощн. волн высокой частоты (HFp) %',\n",
    "                     'Относ. знач. мощн. волн низкой частоты (LFp) %',\n",
    "                     'Отн. зн. мощн. волн оч. низкой частоты (VLFp) %',\n",
    "                     'Относ. знач. HF, нормализованное (relHF) %',\n",
    "                     'Относ. знач. LF, нормализованное (relLF) %',\n",
    "                     'Индекс централизации (IC)',\n",
    "                     'Показатель активности регуляторных систем (PARS)'],\n",
    "     'Значение': [HR(nn), sdRR(nn), CV(nn), RMSSD(nn), PNN50(nn), Mo(nn), hist_AMo(nn), MxDMn(nn), SI(nn),\n",
    "                  IVR(nn), VPR(nn), PAPR(nn), VLF(Pxx_den,f,df), LF(Pxx_den,f,df), HF(Pxx_den,f,df), TP(Pxx_den,f,df),\n",
    "                 LFHF(Pxx_den,f,df), HFp(Pxx_den,f,df), LFp(Pxx_den,f,df), VLFp(Pxx_den,f,df), relativeHF(Pxx_den,f,df),\n",
    "                 relativeLF(Pxx_den,f,df), IC(Pxx_den,f,df), PARS(nn, Pxx_den, f, df)],\n",
    "     'Норма': ['55-80', '30-100', '3-12', '20-50', '10-30', '700-900', '30-50', '150-300', '50-150',\n",
    "              '100-300', '7.1-9.3', '35-70', '355-1175', '754-1586', '772-1178', '2428-4464',\n",
    "              '0.7-2.2', '21.05-50.53', '24.64-42.72', '17.41-39.89', '40-58.8', '41.2-60', '0-3', '1-3']}\n",
    "    conclusion = pd.DataFrame(data=d)\n",
    "    conclusion.index += 1\n",
    "    \n",
    "    def custom_style(row): # Выделение показателей вне нормы\n",
    "        color = 'white'\n",
    "        if float(row.values[0]) < float(row.values[-1].split('-')[0]) or\\\n",
    "        float(row.values[0]) > float(row.values[-1].split('-')[1]):\n",
    "            color = 'darkorange'\n",
    "\n",
    "        return ['background-color: {}'.format(color)]*len(row.values)\n",
    "    conclusion['Значение'] = conclusion['Значение'].round(decimals=2)\n",
    "    conclusion = conclusion.style.apply(custom_style, axis=1, subset=['Значение','Норма'])\n",
    "    \n",
    "    #=============Заключение===========\n",
    "    zak = ''\n",
    "    if PARS(nn, Pxx_den, f, df) <= 3 and TP(Pxx_den,f,df) >= 2428:\n",
    "        zak += 'У вас в настоящее время {} функциональное состояние. Корректировка образа жизни не требуется'.format('хорошее')\n",
    "    elif PARS(nn, Pxx_den, f, df) > 3 and PARS(nn, Pxx_den, f, df) < 8:\n",
    "        zak += 'У вас в настоящее время {} функциональное состояние. '.format('ухудшенное')\n",
    "    else:\n",
    "        zak += 'У вас в настоящее время {} функциональное состояние. '.format('плохое')\n",
    "    \n",
    "    if TP(Pxx_den,f,df) < 2428:\n",
    "        zak += 'Наблюдается понижение адаптационных возможностей сердечно-сосудистой системы, низкая стрессовая устойчивость организма. '\n",
    "    \n",
    "    if PARS(nn, Pxx_den, f, df) >= 3:\n",
    "        zak += 'Системы регуляции работают с некоторым напряжением. В ответ на любой стрессовый фактор возникает '+ \\\n",
    "        'функциональное напряжение, с которым '\n",
    "    \n",
    "    if PARS(nn, Pxx_den, f, df) == 3:\n",
    "        zak += 'ВЫ еще достаточно успешно можете справиться. '\n",
    "    \n",
    "    if PARS(nn, Pxx_den, f, df) > 3 and PARS(nn, Pxx_den, f, df) < 8:\n",
    "        zak += 'ВАМ трудно справиться. '\n",
    "    if PARS(nn, Pxx_den, f, df) >= 3:\n",
    "        zak += 'Для нормализации фукционального состояния Вам рекомендуется снизить психоэмоциональные нагрузки, '\n",
    "        zak += 'наладить нормальный режим питания, обратить особое внимание на режим сна и отдыха. '\n",
    "        zak += 'Постарайтесь устранить имеющиеся у Вас факторы риска или снизить уровень их воздействия. '\n",
    "        zak += 'После этого пройти повторное исследование.'\n",
    "    if PARS(nn, Pxx_den, f, df) >= 8:\n",
    "        zak += 'Возможно у вас срыв адаптации. Требуется консультация специалиста.'\n",
    "    print('\\033[1m\\n\\nЗАКЛЮЧЕНИЕ\\033[0m\\n')\n",
    "    print(zak)\n",
    "    #==================================\n",
    "    \n",
    "    print('\\n\\n\\033[1mОСНОВНЫЕ ПОКАЗАТЕЛИ СЕРДЕЧНОГО РИТМА\\033[0m')\n",
    "        \n",
    "    return conclusion"
   ]
  },
  {
   "cell_type": "code",
   "execution_count": 58,
   "metadata": {
    "scrolled": false
   },
   "outputs": [
    {
     "name": "stdout",
     "output_type": "stream",
     "text": [
      "ФИО: у\n",
      "\n",
      "Пол: у\n",
      "\n",
      "Возраст: у\n",
      "\n",
      "Путь к файлу ЭКГ: data/Шемякина.mat\n",
      "\n",
      "Частота дискретизации: 2000\n",
      "\n",
      "Дата и время обследования: 2020-04-15 13:02:12.904903\n"
     ]
    },
    {
     "data": {
      "image/png": "[encoded data removed]",
      "text/plain": [
       "<Figure size 720x360 with 1 Axes>"
      ]
     },
     "metadata": {
      "needs_background": "light"
     },
     "output_type": "display_data"
    },
    {
     "data": {
      "image/png": "[encoded data removed]",
      "text/plain": [
       "<Figure size 720x360 with 1 Axes>"
      ]
     },
     "metadata": {
      "needs_background": "light"
     },
     "output_type": "display_data"
    },
    {
     "data": {
      "image/png": "[encoded data removed]",
      "text/plain": [
       "<Figure size 720x360 with 1 Axes>"
      ]
     },
     "metadata": {
      "needs_background": "light"
     },
     "output_type": "display_data"
    },
    {
     "data": {
      "image/png": "[encoded data removed]",
      "text/plain": [
       "<Figure size 720x432 with 1 Axes>"
      ]
     },
     "metadata": {
      "needs_background": "light"
     },
     "output_type": "display_data"
    },
    {
     "data": {
      "image/png": "[encoded data removed]",
      "text/plain": [
       "<Figure size 720x360 with 1 Axes>"
      ]
     },
     "metadata": {
      "needs_background": "light"
     },
     "output_type": "display_data"
    },
    {
     "name": "stdout",
     "output_type": "stream",
     "text": [
      "\u001b[1mОЦЕНКА СОСТОЯНИЯ РЕГУЛЯТОРНЫХ СИСТЕМ\n",
      "\u001b[0m\n",
      "Суммарный эффект регуляции:  \u001b[1mУмеренная тахикардия\u001b[0m - (1)\n",
      "Функция автоматизма:  \u001b[1mВыраженная синусовая аритмия\u001b[0m - (1)\n",
      "Вегетативный гомеостаз:  \u001b[1mВегетативный гомеостаз сохранен\u001b[0m - (0)\n",
      "Устойчивость регуляции:  \u001b[1mДисрегуляция\u001b[0m - (-2)\n",
      "Активность подкорковых нервных центров:  \u001b[1mУмеренное ослабление\u001b[0m - (-1)\n",
      "\n",
      "\u001b[1m\n",
      "ОЦЕНКА ФУНКЦИОНАЛЬНОГО СОСТОЯНИЯ\n",
      "\u001b[0m\n",
      "\u001b[91m\u001b[1mВыраженное функциональное напряжение\u001b[0m\n",
      "Ваш показатель активности регуляторных систем: 5\n",
      "\u001b[1m\n",
      "\n",
      "ЗАКЛЮЧЕНИЕ\u001b[0m\n",
      "\n",
      "У вас в настоящее время ухудшенное функциональное состояние. Системы регуляции работают с некоторым напряжением. В ответ на любой стрессовый фактор возникает функциональное напряжение, с которым ВАМ трудно справиться. Для нормализации фукционального состояния Вам рекомендуется снизить психоэмоциональные нагрузки, наладить нормальный режим питания, обратить особое внимание на режим сна и отдыха. Постарайтесь устранить имеющиеся у Вас факторы риска или снизить уровень их воздействия. После этого пройти повторное исследование.\n",
      "\n",
      "\n",
      "\u001b[1mОСНОВНЫЕ ПОКАЗАТЕЛИ СЕРДЕЧНОГО РИТМА\u001b[0m\n"
     ]
    },
    {
     "data": {
      "text/html": [
       "<style  type=\"text/css\" >\n",
       "    #T_d742262c_7ef7_11ea_85d7_60a44c32dc44row0_col1 {\n",
       "            background-color:  darkorange;\n",
       "        }    #T_d742262c_7ef7_11ea_85d7_60a44c32dc44row0_col2 {\n",
       "            background-color:  darkorange;\n",
       "        }    #T_d742262c_7ef7_11ea_85d7_60a44c32dc44row1_col1 {\n",
       "            background-color:  darkorange;\n",
       "        }    #T_d742262c_7ef7_11ea_85d7_60a44c32dc44row1_col2 {\n",
       "            background-color:  darkorange;\n",
       "        }    #T_d742262c_7ef7_11ea_85d7_60a44c32dc44row2_col1 {\n",
       "            background-color:  darkorange;\n",
       "        }    #T_d742262c_7ef7_11ea_85d7_60a44c32dc44row2_col2 {\n",
       "            background-color:  darkorange;\n",
       "        }    #T_d742262c_7ef7_11ea_85d7_60a44c32dc44row3_col1 {\n",
       "            background-color:  darkorange;\n",
       "        }    #T_d742262c_7ef7_11ea_85d7_60a44c32dc44row3_col2 {\n",
       "            background-color:  darkorange;\n",
       "        }    #T_d742262c_7ef7_11ea_85d7_60a44c32dc44row4_col1 {\n",
       "            background-color:  white;\n",
       "        }    #T_d742262c_7ef7_11ea_85d7_60a44c32dc44row4_col2 {\n",
       "            background-color:  white;\n",
       "        }    #T_d742262c_7ef7_11ea_85d7_60a44c32dc44row5_col1 {\n",
       "            background-color:  white;\n",
       "        }    #T_d742262c_7ef7_11ea_85d7_60a44c32dc44row5_col2 {\n",
       "            background-color:  white;\n",
       "        }    #T_d742262c_7ef7_11ea_85d7_60a44c32dc44row6_col1 {\n",
       "            background-color:  white;\n",
       "        }    #T_d742262c_7ef7_11ea_85d7_60a44c32dc44row6_col2 {\n",
       "            background-color:  white;\n",
       "        }    #T_d742262c_7ef7_11ea_85d7_60a44c32dc44row7_col1 {\n",
       "            background-color:  darkorange;\n",
       "        }    #T_d742262c_7ef7_11ea_85d7_60a44c32dc44row7_col2 {\n",
       "            background-color:  darkorange;\n",
       "        }    #T_d742262c_7ef7_11ea_85d7_60a44c32dc44row8_col1 {\n",
       "            background-color:  darkorange;\n",
       "        }    #T_d742262c_7ef7_11ea_85d7_60a44c32dc44row8_col2 {\n",
       "            background-color:  darkorange;\n",
       "        }    #T_d742262c_7ef7_11ea_85d7_60a44c32dc44row9_col1 {\n",
       "            background-color:  darkorange;\n",
       "        }    #T_d742262c_7ef7_11ea_85d7_60a44c32dc44row9_col2 {\n",
       "            background-color:  darkorange;\n",
       "        }    #T_d742262c_7ef7_11ea_85d7_60a44c32dc44row10_col1 {\n",
       "            background-color:  darkorange;\n",
       "        }    #T_d742262c_7ef7_11ea_85d7_60a44c32dc44row10_col2 {\n",
       "            background-color:  darkorange;\n",
       "        }    #T_d742262c_7ef7_11ea_85d7_60a44c32dc44row11_col1 {\n",
       "            background-color:  white;\n",
       "        }    #T_d742262c_7ef7_11ea_85d7_60a44c32dc44row11_col2 {\n",
       "            background-color:  white;\n",
       "        }    #T_d742262c_7ef7_11ea_85d7_60a44c32dc44row12_col1 {\n",
       "            background-color:  darkorange;\n",
       "        }    #T_d742262c_7ef7_11ea_85d7_60a44c32dc44row12_col2 {\n",
       "            background-color:  darkorange;\n",
       "        }    #T_d742262c_7ef7_11ea_85d7_60a44c32dc44row13_col1 {\n",
       "            background-color:  darkorange;\n",
       "        }    #T_d742262c_7ef7_11ea_85d7_60a44c32dc44row13_col2 {\n",
       "            background-color:  darkorange;\n",
       "        }    #T_d742262c_7ef7_11ea_85d7_60a44c32dc44row14_col1 {\n",
       "            background-color:  darkorange;\n",
       "        }    #T_d742262c_7ef7_11ea_85d7_60a44c32dc44row14_col2 {\n",
       "            background-color:  darkorange;\n",
       "        }    #T_d742262c_7ef7_11ea_85d7_60a44c32dc44row15_col1 {\n",
       "            background-color:  darkorange;\n",
       "        }    #T_d742262c_7ef7_11ea_85d7_60a44c32dc44row15_col2 {\n",
       "            background-color:  darkorange;\n",
       "        }    #T_d742262c_7ef7_11ea_85d7_60a44c32dc44row16_col1 {\n",
       "            background-color:  darkorange;\n",
       "        }    #T_d742262c_7ef7_11ea_85d7_60a44c32dc44row16_col2 {\n",
       "            background-color:  darkorange;\n",
       "        }    #T_d742262c_7ef7_11ea_85d7_60a44c32dc44row17_col1 {\n",
       "            background-color:  darkorange;\n",
       "        }    #T_d742262c_7ef7_11ea_85d7_60a44c32dc44row17_col2 {\n",
       "            background-color:  darkorange;\n",
       "        }    #T_d742262c_7ef7_11ea_85d7_60a44c32dc44row18_col1 {\n",
       "            background-color:  darkorange;\n",
       "        }    #T_d742262c_7ef7_11ea_85d7_60a44c32dc44row18_col2 {\n",
       "            background-color:  darkorange;\n",
       "        }    #T_d742262c_7ef7_11ea_85d7_60a44c32dc44row19_col1 {\n",
       "            background-color:  darkorange;\n",
       "        }    #T_d742262c_7ef7_11ea_85d7_60a44c32dc44row19_col2 {\n",
       "            background-color:  darkorange;\n",
       "        }    #T_d742262c_7ef7_11ea_85d7_60a44c32dc44row20_col1 {\n",
       "            background-color:  darkorange;\n",
       "        }    #T_d742262c_7ef7_11ea_85d7_60a44c32dc44row20_col2 {\n",
       "            background-color:  darkorange;\n",
       "        }    #T_d742262c_7ef7_11ea_85d7_60a44c32dc44row21_col1 {\n",
       "            background-color:  darkorange;\n",
       "        }    #T_d742262c_7ef7_11ea_85d7_60a44c32dc44row21_col2 {\n",
       "            background-color:  darkorange;\n",
       "        }    #T_d742262c_7ef7_11ea_85d7_60a44c32dc44row22_col1 {\n",
       "            background-color:  white;\n",
       "        }    #T_d742262c_7ef7_11ea_85d7_60a44c32dc44row22_col2 {\n",
       "            background-color:  white;\n",
       "        }    #T_d742262c_7ef7_11ea_85d7_60a44c32dc44row23_col1 {\n",
       "            background-color:  darkorange;\n",
       "        }    #T_d742262c_7ef7_11ea_85d7_60a44c32dc44row23_col2 {\n",
       "            background-color:  darkorange;\n",
       "        }</style><table id=\"T_d742262c_7ef7_11ea_85d7_60a44c32dc44\" ><thead>    <tr>        <th class=\"blank level0\" ></th>        <th class=\"col_heading level0 col0\" >Наименование</th>        <th class=\"col_heading level0 col1\" >Значение</th>        <th class=\"col_heading level0 col2\" >Норма</th>    </tr></thead><tbody>\n",
       "                <tr>\n",
       "                        <th id=\"T_d742262c_7ef7_11ea_85d7_60a44c32dc44level0_row0\" class=\"row_heading level0 row0\" >1</th>\n",
       "                        <td id=\"T_d742262c_7ef7_11ea_85d7_60a44c32dc44row0_col0\" class=\"data row0 col0\" >Частота пульса (HR) уд/мин</td>\n",
       "                        <td id=\"T_d742262c_7ef7_11ea_85d7_60a44c32dc44row0_col1\" class=\"data row0 col1\" >82</td>\n",
       "                        <td id=\"T_d742262c_7ef7_11ea_85d7_60a44c32dc44row0_col2\" class=\"data row0 col2\" >55-80</td>\n",
       "            </tr>\n",
       "            <tr>\n",
       "                        <th id=\"T_d742262c_7ef7_11ea_85d7_60a44c32dc44level0_row1\" class=\"row_heading level0 row1\" >2</th>\n",
       "                        <td id=\"T_d742262c_7ef7_11ea_85d7_60a44c32dc44row1_col0\" class=\"data row1 col0\" >Среднеквадратическое отклонение (SDNN) мс</td>\n",
       "                        <td id=\"T_d742262c_7ef7_11ea_85d7_60a44c32dc44row1_col1\" class=\"data row1 col1\" >113.88</td>\n",
       "                        <td id=\"T_d742262c_7ef7_11ea_85d7_60a44c32dc44row1_col2\" class=\"data row1 col2\" >30-100</td>\n",
       "            </tr>\n",
       "            <tr>\n",
       "                        <th id=\"T_d742262c_7ef7_11ea_85d7_60a44c32dc44level0_row2\" class=\"row_heading level0 row2\" >3</th>\n",
       "                        <td id=\"T_d742262c_7ef7_11ea_85d7_60a44c32dc44row2_col0\" class=\"data row2 col0\" >Коэффициент вариации (CV) %</td>\n",
       "                        <td id=\"T_d742262c_7ef7_11ea_85d7_60a44c32dc44row2_col1\" class=\"data row2 col1\" >15.57</td>\n",
       "                        <td id=\"T_d742262c_7ef7_11ea_85d7_60a44c32dc44row2_col2\" class=\"data row2 col2\" >3-12</td>\n",
       "            </tr>\n",
       "            <tr>\n",
       "                        <th id=\"T_d742262c_7ef7_11ea_85d7_60a44c32dc44level0_row3\" class=\"row_heading level0 row3\" >4</th>\n",
       "                        <td id=\"T_d742262c_7ef7_11ea_85d7_60a44c32dc44row3_col0\" class=\"data row3 col0\" >Среднеквадр. разностная характеристика (RMSSD) мс</td>\n",
       "                        <td id=\"T_d742262c_7ef7_11ea_85d7_60a44c32dc44row3_col1\" class=\"data row3 col1\" >155.69</td>\n",
       "                        <td id=\"T_d742262c_7ef7_11ea_85d7_60a44c32dc44row3_col2\" class=\"data row3 col2\" >20-50</td>\n",
       "            </tr>\n",
       "            <tr>\n",
       "                        <th id=\"T_d742262c_7ef7_11ea_85d7_60a44c32dc44level0_row4\" class=\"row_heading level0 row4\" >5</th>\n",
       "                        <td id=\"T_d742262c_7ef7_11ea_85d7_60a44c32dc44row4_col0\" class=\"data row4 col0\" >Процент разностных интервалов > 50 мс (PNN50) %</td>\n",
       "                        <td id=\"T_d742262c_7ef7_11ea_85d7_60a44c32dc44row4_col1\" class=\"data row4 col1\" >29.31</td>\n",
       "                        <td id=\"T_d742262c_7ef7_11ea_85d7_60a44c32dc44row4_col2\" class=\"data row4 col2\" >10-30</td>\n",
       "            </tr>\n",
       "            <tr>\n",
       "                        <th id=\"T_d742262c_7ef7_11ea_85d7_60a44c32dc44level0_row5\" class=\"row_heading level0 row5\" >6</th>\n",
       "                        <td id=\"T_d742262c_7ef7_11ea_85d7_60a44c32dc44row5_col0\" class=\"data row5 col0\" >Мода (Mo) мс</td>\n",
       "                        <td id=\"T_d742262c_7ef7_11ea_85d7_60a44c32dc44row5_col1\" class=\"data row5 col1\" >720</td>\n",
       "                        <td id=\"T_d742262c_7ef7_11ea_85d7_60a44c32dc44row5_col2\" class=\"data row5 col2\" >700-900</td>\n",
       "            </tr>\n",
       "            <tr>\n",
       "                        <th id=\"T_d742262c_7ef7_11ea_85d7_60a44c32dc44level0_row6\" class=\"row_heading level0 row6\" >7</th>\n",
       "                        <td id=\"T_d742262c_7ef7_11ea_85d7_60a44c32dc44row6_col0\" class=\"data row6 col0\" >Амплитуда моды (AMo) %</td>\n",
       "                        <td id=\"T_d742262c_7ef7_11ea_85d7_60a44c32dc44row6_col1\" class=\"data row6 col1\" >37.4</td>\n",
       "                        <td id=\"T_d742262c_7ef7_11ea_85d7_60a44c32dc44row6_col2\" class=\"data row6 col2\" >30-50</td>\n",
       "            </tr>\n",
       "            <tr>\n",
       "                        <th id=\"T_d742262c_7ef7_11ea_85d7_60a44c32dc44level0_row7\" class=\"row_heading level0 row7\" >8</th>\n",
       "                        <td id=\"T_d742262c_7ef7_11ea_85d7_60a44c32dc44row7_col0\" class=\"data row7 col0\" >Вариационный размах (MxDMn) мс</td>\n",
       "                        <td id=\"T_d742262c_7ef7_11ea_85d7_60a44c32dc44row7_col1\" class=\"data row7 col1\" >844</td>\n",
       "                        <td id=\"T_d742262c_7ef7_11ea_85d7_60a44c32dc44row7_col2\" class=\"data row7 col2\" >150-300</td>\n",
       "            </tr>\n",
       "            <tr>\n",
       "                        <th id=\"T_d742262c_7ef7_11ea_85d7_60a44c32dc44level0_row8\" class=\"row_heading level0 row8\" >9</th>\n",
       "                        <td id=\"T_d742262c_7ef7_11ea_85d7_60a44c32dc44row8_col0\" class=\"data row8 col0\" >Стресс-индекс (SI)</td>\n",
       "                        <td id=\"T_d742262c_7ef7_11ea_85d7_60a44c32dc44row8_col1\" class=\"data row8 col1\" >31</td>\n",
       "                        <td id=\"T_d742262c_7ef7_11ea_85d7_60a44c32dc44row8_col2\" class=\"data row8 col2\" >50-150</td>\n",
       "            </tr>\n",
       "            <tr>\n",
       "                        <th id=\"T_d742262c_7ef7_11ea_85d7_60a44c32dc44level0_row9\" class=\"row_heading level0 row9\" >10</th>\n",
       "                        <td id=\"T_d742262c_7ef7_11ea_85d7_60a44c32dc44row9_col0\" class=\"data row9 col0\" >Индекс вегетативного равновесия (IVR)</td>\n",
       "                        <td id=\"T_d742262c_7ef7_11ea_85d7_60a44c32dc44row9_col1\" class=\"data row9 col1\" >44.31</td>\n",
       "                        <td id=\"T_d742262c_7ef7_11ea_85d7_60a44c32dc44row9_col2\" class=\"data row9 col2\" >100-300</td>\n",
       "            </tr>\n",
       "            <tr>\n",
       "                        <th id=\"T_d742262c_7ef7_11ea_85d7_60a44c32dc44level0_row10\" class=\"row_heading level0 row10\" >11</th>\n",
       "                        <td id=\"T_d742262c_7ef7_11ea_85d7_60a44c32dc44row10_col0\" class=\"data row10 col0\" >Вегетативный показатель ритма (VPR)</td>\n",
       "                        <td id=\"T_d742262c_7ef7_11ea_85d7_60a44c32dc44row10_col1\" class=\"data row10 col1\" >1.65</td>\n",
       "                        <td id=\"T_d742262c_7ef7_11ea_85d7_60a44c32dc44row10_col2\" class=\"data row10 col2\" >7.1-9.3</td>\n",
       "            </tr>\n",
       "            <tr>\n",
       "                        <th id=\"T_d742262c_7ef7_11ea_85d7_60a44c32dc44level0_row11\" class=\"row_heading level0 row11\" >12</th>\n",
       "                        <td id=\"T_d742262c_7ef7_11ea_85d7_60a44c32dc44row11_col0\" class=\"data row11 col0\" >Индекс адекватности процессов регуляции (PAPR)</td>\n",
       "                        <td id=\"T_d742262c_7ef7_11ea_85d7_60a44c32dc44row11_col1\" class=\"data row11 col1\" >51.94</td>\n",
       "                        <td id=\"T_d742262c_7ef7_11ea_85d7_60a44c32dc44row11_col2\" class=\"data row11 col2\" >35-70</td>\n",
       "            </tr>\n",
       "            <tr>\n",
       "                        <th id=\"T_d742262c_7ef7_11ea_85d7_60a44c32dc44level0_row12\" class=\"row_heading level0 row12\" >13</th>\n",
       "                        <td id=\"T_d742262c_7ef7_11ea_85d7_60a44c32dc44row12_col0\" class=\"data row12 col0\" >Мощность волн очень низкой частоты (VLF) мс^2</td>\n",
       "                        <td id=\"T_d742262c_7ef7_11ea_85d7_60a44c32dc44row12_col1\" class=\"data row12 col1\" >2148</td>\n",
       "                        <td id=\"T_d742262c_7ef7_11ea_85d7_60a44c32dc44row12_col2\" class=\"data row12 col2\" >355-1175</td>\n",
       "            </tr>\n",
       "            <tr>\n",
       "                        <th id=\"T_d742262c_7ef7_11ea_85d7_60a44c32dc44level0_row13\" class=\"row_heading level0 row13\" >14</th>\n",
       "                        <td id=\"T_d742262c_7ef7_11ea_85d7_60a44c32dc44row13_col0\" class=\"data row13 col0\" >Мощность волн низкой частоты (LF) мс^2</td>\n",
       "                        <td id=\"T_d742262c_7ef7_11ea_85d7_60a44c32dc44row13_col1\" class=\"data row13 col1\" >1839.35</td>\n",
       "                        <td id=\"T_d742262c_7ef7_11ea_85d7_60a44c32dc44row13_col2\" class=\"data row13 col2\" >754-1586</td>\n",
       "            </tr>\n",
       "            <tr>\n",
       "                        <th id=\"T_d742262c_7ef7_11ea_85d7_60a44c32dc44level0_row14\" class=\"row_heading level0 row14\" >15</th>\n",
       "                        <td id=\"T_d742262c_7ef7_11ea_85d7_60a44c32dc44row14_col0\" class=\"data row14 col0\" >Мощность волн высокой частоты (HF) мс^2</td>\n",
       "                        <td id=\"T_d742262c_7ef7_11ea_85d7_60a44c32dc44row14_col1\" class=\"data row14 col1\" >9051.58</td>\n",
       "                        <td id=\"T_d742262c_7ef7_11ea_85d7_60a44c32dc44row14_col2\" class=\"data row14 col2\" >772-1178</td>\n",
       "            </tr>\n",
       "            <tr>\n",
       "                        <th id=\"T_d742262c_7ef7_11ea_85d7_60a44c32dc44level0_row15\" class=\"row_heading level0 row15\" >16</th>\n",
       "                        <td id=\"T_d742262c_7ef7_11ea_85d7_60a44c32dc44row15_col0\" class=\"data row15 col0\" >Общая мощность спектра (TP) мс^2</td>\n",
       "                        <td id=\"T_d742262c_7ef7_11ea_85d7_60a44c32dc44row15_col1\" class=\"data row15 col1\" >13038.9</td>\n",
       "                        <td id=\"T_d742262c_7ef7_11ea_85d7_60a44c32dc44row15_col2\" class=\"data row15 col2\" >2428-4464</td>\n",
       "            </tr>\n",
       "            <tr>\n",
       "                        <th id=\"T_d742262c_7ef7_11ea_85d7_60a44c32dc44level0_row16\" class=\"row_heading level0 row16\" >17</th>\n",
       "                        <td id=\"T_d742262c_7ef7_11ea_85d7_60a44c32dc44row16_col0\" class=\"data row16 col0\" >Коэф. вагосимпатического баланса (LFHF) мс^2</td>\n",
       "                        <td id=\"T_d742262c_7ef7_11ea_85d7_60a44c32dc44row16_col1\" class=\"data row16 col1\" >0.2</td>\n",
       "                        <td id=\"T_d742262c_7ef7_11ea_85d7_60a44c32dc44row16_col2\" class=\"data row16 col2\" >0.7-2.2</td>\n",
       "            </tr>\n",
       "            <tr>\n",
       "                        <th id=\"T_d742262c_7ef7_11ea_85d7_60a44c32dc44level0_row17\" class=\"row_heading level0 row17\" >18</th>\n",
       "                        <td id=\"T_d742262c_7ef7_11ea_85d7_60a44c32dc44row17_col0\" class=\"data row17 col0\" >Относ. знач. мощн. волн высокой частоты (HFp) %</td>\n",
       "                        <td id=\"T_d742262c_7ef7_11ea_85d7_60a44c32dc44row17_col1\" class=\"data row17 col1\" >69.42</td>\n",
       "                        <td id=\"T_d742262c_7ef7_11ea_85d7_60a44c32dc44row17_col2\" class=\"data row17 col2\" >21.05-50.53</td>\n",
       "            </tr>\n",
       "            <tr>\n",
       "                        <th id=\"T_d742262c_7ef7_11ea_85d7_60a44c32dc44level0_row18\" class=\"row_heading level0 row18\" >19</th>\n",
       "                        <td id=\"T_d742262c_7ef7_11ea_85d7_60a44c32dc44row18_col0\" class=\"data row18 col0\" >Относ. знач. мощн. волн низкой частоты (LFp) %</td>\n",
       "                        <td id=\"T_d742262c_7ef7_11ea_85d7_60a44c32dc44row18_col1\" class=\"data row18 col1\" >14.11</td>\n",
       "                        <td id=\"T_d742262c_7ef7_11ea_85d7_60a44c32dc44row18_col2\" class=\"data row18 col2\" >24.64-42.72</td>\n",
       "            </tr>\n",
       "            <tr>\n",
       "                        <th id=\"T_d742262c_7ef7_11ea_85d7_60a44c32dc44level0_row19\" class=\"row_heading level0 row19\" >20</th>\n",
       "                        <td id=\"T_d742262c_7ef7_11ea_85d7_60a44c32dc44row19_col0\" class=\"data row19 col0\" >Отн. зн. мощн. волн оч. низкой частоты (VLFp) %</td>\n",
       "                        <td id=\"T_d742262c_7ef7_11ea_85d7_60a44c32dc44row19_col1\" class=\"data row19 col1\" >16.47</td>\n",
       "                        <td id=\"T_d742262c_7ef7_11ea_85d7_60a44c32dc44row19_col2\" class=\"data row19 col2\" >17.41-39.89</td>\n",
       "            </tr>\n",
       "            <tr>\n",
       "                        <th id=\"T_d742262c_7ef7_11ea_85d7_60a44c32dc44level0_row20\" class=\"row_heading level0 row20\" >21</th>\n",
       "                        <td id=\"T_d742262c_7ef7_11ea_85d7_60a44c32dc44row20_col0\" class=\"data row20 col0\" >Относ. знач. HF, нормализованное (relHF) %</td>\n",
       "                        <td id=\"T_d742262c_7ef7_11ea_85d7_60a44c32dc44row20_col1\" class=\"data row20 col1\" >83.11</td>\n",
       "                        <td id=\"T_d742262c_7ef7_11ea_85d7_60a44c32dc44row20_col2\" class=\"data row20 col2\" >40-58.8</td>\n",
       "            </tr>\n",
       "            <tr>\n",
       "                        <th id=\"T_d742262c_7ef7_11ea_85d7_60a44c32dc44level0_row21\" class=\"row_heading level0 row21\" >22</th>\n",
       "                        <td id=\"T_d742262c_7ef7_11ea_85d7_60a44c32dc44row21_col0\" class=\"data row21 col0\" >Относ. знач. LF, нормализованное (relLF) %</td>\n",
       "                        <td id=\"T_d742262c_7ef7_11ea_85d7_60a44c32dc44row21_col1\" class=\"data row21 col1\" >16.89</td>\n",
       "                        <td id=\"T_d742262c_7ef7_11ea_85d7_60a44c32dc44row21_col2\" class=\"data row21 col2\" >41.2-60</td>\n",
       "            </tr>\n",
       "            <tr>\n",
       "                        <th id=\"T_d742262c_7ef7_11ea_85d7_60a44c32dc44level0_row22\" class=\"row_heading level0 row22\" >23</th>\n",
       "                        <td id=\"T_d742262c_7ef7_11ea_85d7_60a44c32dc44row22_col0\" class=\"data row22 col0\" >Индекс централизации (IC)</td>\n",
       "                        <td id=\"T_d742262c_7ef7_11ea_85d7_60a44c32dc44row22_col1\" class=\"data row22 col1\" >0.44</td>\n",
       "                        <td id=\"T_d742262c_7ef7_11ea_85d7_60a44c32dc44row22_col2\" class=\"data row22 col2\" >0-3</td>\n",
       "            </tr>\n",
       "            <tr>\n",
       "                        <th id=\"T_d742262c_7ef7_11ea_85d7_60a44c32dc44level0_row23\" class=\"row_heading level0 row23\" >24</th>\n",
       "                        <td id=\"T_d742262c_7ef7_11ea_85d7_60a44c32dc44row23_col0\" class=\"data row23 col0\" >Показатель активности регуляторных систем (PARS)</td>\n",
       "                        <td id=\"T_d742262c_7ef7_11ea_85d7_60a44c32dc44row23_col1\" class=\"data row23 col1\" >5</td>\n",
       "                        <td id=\"T_d742262c_7ef7_11ea_85d7_60a44c32dc44row23_col2\" class=\"data row23 col2\" >1-3</td>\n",
       "            </tr>\n",
       "    </tbody></table>"
      ],
      "text/plain": [
       "<pandas.io.formats.style.Styler at 0xaab06d8>"
      ]
     },
     "execution_count": 58,
     "metadata": {},
     "output_type": "execute_result"
    }
   ],
   "source": [
    "start() # Путь к файлу: data/Кругликов.mat  Частота дискретизации: 2000 - Норма\n",
    "        \n",
    "        # Путь к файлу: data/Шемякина.mat  Частота дискретизации: 2000 - Выраженное функциональное напряжение"
   ]
  }
 ],
 "metadata": {
  "kernelspec": {
   "display_name": "Python 3",
   "language": "python",
   "name": "python3"
  },
  "language_info": {
   "codemirror_mode": {
    "name": "ipython",
    "version": 3
   },
   "file_extension": ".py",
   "mimetype": "text/x-python",
   "name": "python",
   "nbconvert_exporter": "python",
   "pygments_lexer": "ipython3",
   "version": "3.6.8"
  }
 },
 "nbformat": 4,
 "nbformat_minor": 2
}
